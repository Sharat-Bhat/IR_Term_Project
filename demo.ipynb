{
 "cells": [
  {
   "cell_type": "code",
   "execution_count": 1,
   "metadata": {},
   "outputs": [
    {
     "name": "stdout",
     "output_type": "stream",
     "text": [
      "Requirement already satisfied: torch in /home/sharat/anaconda3/lib/python3.7/site-packages (1.10.2)\n",
      "Requirement already satisfied: typing-extensions in /home/sharat/anaconda3/lib/python3.7/site-packages (from torch) (3.10.0.2)\n"
     ]
    }
   ],
   "source": [
    "!pip install torch"
   ]
  },
  {
   "cell_type": "code",
   "execution_count": 2,
   "metadata": {},
   "outputs": [
    {
     "name": "stdout",
     "output_type": "stream",
     "text": [
      "Requirement already satisfied: sentence_transformers in /home/sharat/anaconda3/lib/python3.7/site-packages (2.2.0)\n",
      "Requirement already satisfied: tqdm in /home/sharat/anaconda3/lib/python3.7/site-packages (from sentence_transformers) (4.62.3)\n",
      "Requirement already satisfied: scipy in /home/sharat/anaconda3/lib/python3.7/site-packages (from sentence_transformers) (1.7.3)\n",
      "Requirement already satisfied: scikit-learn in /home/sharat/anaconda3/lib/python3.7/site-packages (from sentence_transformers) (0.22.1)\n",
      "Requirement already satisfied: nltk in /home/sharat/anaconda3/lib/python3.7/site-packages (from sentence_transformers) (3.7)\n",
      "Requirement already satisfied: torchvision in /home/sharat/anaconda3/lib/python3.7/site-packages (from sentence_transformers) (0.11.3)\n",
      "Requirement already satisfied: numpy in /home/sharat/anaconda3/lib/python3.7/site-packages (from sentence_transformers) (1.21.5)\n",
      "Requirement already satisfied: sentencepiece in /home/sharat/anaconda3/lib/python3.7/site-packages (from sentence_transformers) (0.1.96)\n",
      "Requirement already satisfied: torch>=1.6.0 in /home/sharat/anaconda3/lib/python3.7/site-packages (from sentence_transformers) (1.10.2)\n",
      "Requirement already satisfied: transformers<5.0.0,>=4.6.0 in /home/sharat/anaconda3/lib/python3.7/site-packages (from sentence_transformers) (4.12.5)\n",
      "Requirement already satisfied: huggingface-hub in /home/sharat/anaconda3/lib/python3.7/site-packages (from sentence_transformers) (0.1.2)\n",
      "Requirement already satisfied: typing-extensions in /home/sharat/anaconda3/lib/python3.7/site-packages (from torch>=1.6.0->sentence_transformers) (3.10.0.2)\n",
      "Requirement already satisfied: regex!=2019.12.17 in /home/sharat/anaconda3/lib/python3.7/site-packages (from transformers<5.0.0,>=4.6.0->sentence_transformers) (2022.1.18)\n",
      "Requirement already satisfied: sacremoses in /home/sharat/anaconda3/lib/python3.7/site-packages (from transformers<5.0.0,>=4.6.0->sentence_transformers) (0.0.46)\n",
      "Requirement already satisfied: importlib-metadata in /home/sharat/anaconda3/lib/python3.7/site-packages (from transformers<5.0.0,>=4.6.0->sentence_transformers) (4.11.3)\n",
      "Requirement already satisfied: tokenizers<0.11,>=0.10.1 in /home/sharat/anaconda3/lib/python3.7/site-packages (from transformers<5.0.0,>=4.6.0->sentence_transformers) (0.10.3)\n",
      "Requirement already satisfied: requests in /home/sharat/anaconda3/lib/python3.7/site-packages (from transformers<5.0.0,>=4.6.0->sentence_transformers) (2.27.1)\n",
      "Requirement already satisfied: packaging>=20.0 in /home/sharat/anaconda3/lib/python3.7/site-packages (from transformers<5.0.0,>=4.6.0->sentence_transformers) (21.3)\n",
      "Requirement already satisfied: filelock in /home/sharat/anaconda3/lib/python3.7/site-packages (from transformers<5.0.0,>=4.6.0->sentence_transformers) (3.4.2)\n",
      "Requirement already satisfied: pyyaml>=5.1 in /home/sharat/anaconda3/lib/python3.7/site-packages (from transformers<5.0.0,>=4.6.0->sentence_transformers) (6.0)\n",
      "Requirement already satisfied: joblib in /home/sharat/anaconda3/lib/python3.7/site-packages (from nltk->sentence_transformers) (1.1.0)\n",
      "Requirement already satisfied: click in /home/sharat/anaconda3/lib/python3.7/site-packages (from nltk->sentence_transformers) (8.0.3)\n",
      "Requirement already satisfied: pillow!=8.3.0,>=5.3.0 in /home/sharat/anaconda3/lib/python3.7/site-packages (from torchvision->sentence_transformers) (8.4.0)\n",
      "Requirement already satisfied: pyparsing!=3.0.5,>=2.0.2 in /home/sharat/anaconda3/lib/python3.7/site-packages (from packaging>=20.0->transformers<5.0.0,>=4.6.0->sentence_transformers) (2.4.2)\n",
      "Requirement already satisfied: zipp>=0.5 in /home/sharat/anaconda3/lib/python3.7/site-packages (from importlib-metadata->transformers<5.0.0,>=4.6.0->sentence_transformers) (3.7.0)\n",
      "Requirement already satisfied: charset-normalizer~=2.0.0 in /home/sharat/anaconda3/lib/python3.7/site-packages (from requests->transformers<5.0.0,>=4.6.0->sentence_transformers) (2.0.4)\n",
      "Requirement already satisfied: urllib3<1.27,>=1.21.1 in /home/sharat/anaconda3/lib/python3.7/site-packages (from requests->transformers<5.0.0,>=4.6.0->sentence_transformers) (1.26.8)\n",
      "Requirement already satisfied: idna<4,>=2.5 in /home/sharat/anaconda3/lib/python3.7/site-packages (from requests->transformers<5.0.0,>=4.6.0->sentence_transformers) (2.10)\n",
      "Requirement already satisfied: certifi>=2017.4.17 in /home/sharat/anaconda3/lib/python3.7/site-packages (from requests->transformers<5.0.0,>=4.6.0->sentence_transformers) (2021.5.30)\n",
      "Requirement already satisfied: six in /home/sharat/anaconda3/lib/python3.7/site-packages (from sacremoses->transformers<5.0.0,>=4.6.0->sentence_transformers) (1.16.0)\n"
     ]
    }
   ],
   "source": [
    "!pip install sentence_transformers"
   ]
  },
  {
   "cell_type": "code",
   "execution_count": 142,
   "metadata": {},
   "outputs": [],
   "source": [
    "import json\n",
    "import torch\n",
    "from torch import nn\n",
    "import numpy as np\n",
    "from sentence_transformers import SentenceTransformer, models"
   ]
  },
  {
   "cell_type": "code",
   "execution_count": 2,
   "metadata": {},
   "outputs": [],
   "source": [
    "# Load training dataset\n",
    "f = open('conala-corpus/conala-train.json')\n",
    "data = json.load(f)"
   ]
  },
  {
   "cell_type": "code",
   "execution_count": 6,
   "metadata": {},
   "outputs": [],
   "source": [
    "import ast\n",
    "import python_ast_utils\n",
    "import ast2vec\n",
    "\n",
    "ast2vec_model = ast2vec.load_model()"
   ]
  },
  {
   "cell_type": "code",
   "execution_count": 7,
   "metadata": {},
   "outputs": [],
   "source": [
    "# Processes raw input data\n",
    "def process_data(data):\n",
    "    new_data = dict()\n",
    "    for d in data:\n",
    "        if d[\"question_id\"] not in new_data.keys():\n",
    "            new_data[d[\"question_id\"]] = {\"anchor\": \"\", \"pos\": [], \"neg\":[], \"pos_tree\":[], \"neg_tree\": []}\n",
    "        new_data[d[\"question_id\"]][\"anchor\"] = d[\"intent\"]\n",
    "        new_data[d[\"question_id\"]][\"pos\"].append(\"<s> \" + str(d[\"rewritten_intent\"]) + \" </s> \" + str(d[\"snippet\"]) + \" </s>\")\n",
    "        new_data[d[\"question_id\"]][\"pos_tree\"].append(python_ast_utils.ast_to_tree(ast.parse(d[\"snippet\"])))\n",
    "    return new_data         \n",
    "        "
   ]
  },
  {
   "cell_type": "code",
   "execution_count": 8,
   "metadata": {},
   "outputs": [],
   "source": [
    "# Samples Negative Examples for Training\n",
    "import random\n",
    "def get_neg(id, new_data, num):\n",
    "    neg_list = []\n",
    "    tree_list = []\n",
    "    for k in new_data.keys():\n",
    "        if k != id:\n",
    "            neg_list += new_data[k][\"pos\"]\n",
    "            tree_list += new_data[k][\"pos_tree\"]\n",
    "    indices = random.sample(range(len(neg_list)), num)\n",
    "    new_data[id][\"neg\"] = [neg_list[i] for i in indices]\n",
    "    new_data[id][\"neg_tree\"] = [tree_list[i] for i in indices]\n",
    "    "
   ]
  },
  {
   "cell_type": "code",
   "execution_count": 9,
   "metadata": {},
   "outputs": [],
   "source": [
    "# Processes Data\n",
    "new_data = process_data(data)"
   ]
  },
  {
   "cell_type": "code",
   "execution_count": 25,
   "metadata": {},
   "outputs": [],
   "source": [
    "# Required Constants and Hyperparameters\n",
    "max_seq_len = 256\n",
    "output_vector_len = 256\n",
    "NUM_EPOCHS = 100\n",
    "NUM_SAMPLES = 1024\n",
    "lmbda = 0.5\n",
    "temperature = 0.02"
   ]
  },
  {
   "cell_type": "code",
   "execution_count": 14,
   "metadata": {},
   "outputs": [
    {
     "name": "stderr",
     "output_type": "stream",
     "text": [
      "Some weights of the model checkpoint at bert-base-uncased were not used when initializing BertModel: ['cls.seq_relationship.bias', 'cls.predictions.transform.LayerNorm.weight', 'cls.predictions.bias', 'cls.predictions.transform.dense.weight', 'cls.predictions.transform.LayerNorm.bias', 'cls.seq_relationship.weight', 'cls.predictions.decoder.weight', 'cls.predictions.transform.dense.bias']\n",
      "- This IS expected if you are initializing BertModel from the checkpoint of a model trained on another task or with another architecture (e.g. initializing a BertForSequenceClassification model from a BertForPreTraining model).\n",
      "- This IS NOT expected if you are initializing BertModel from the checkpoint of a model that you expect to be exactly identical (initializing a BertForSequenceClassification model from a BertForSequenceClassification model).\n"
     ]
    }
   ],
   "source": [
    "# Create Transformer and Dense Layers for BERT model for code snippets and queries respectively\n",
    "\n",
    "code_word_embedding_model = models.Transformer(\"microsoft/codebert-base\", max_seq_length=max_seq_len)\n",
    "query_word_embedding_model = models.Transformer(\"bert-base-uncased\", max_seq_length=max_seq_len)\n",
    "\n",
    "\n",
    "code_pooling_model = models.Pooling(code_word_embedding_model.get_word_embedding_dimension())\n",
    "code_dense_model = models.Dense(in_features=code_pooling_model.get_sentence_embedding_dimension(), out_features=output_vector_len, activation_function=nn.Tanh())\n",
    "\n",
    "query_pooling_model = models.Pooling(query_word_embedding_model.get_word_embedding_dimension())\n",
    "query_dense_model = models.Dense(in_features=query_pooling_model.get_sentence_embedding_dimension(), out_features=output_vector_len, activation_function=nn.Tanh())"
   ]
  },
  {
   "cell_type": "code",
   "execution_count": 143,
   "metadata": {},
   "outputs": [],
   "source": [
    "# Make dense layer trainable\n",
    "for param in query_dense_model.parameters():\n",
    "    param.requires_grad = True\n",
    "    \n",
    "for param in code_dense_model.parameters():\n",
    "    param.requires_grad = True"
   ]
  },
  {
   "cell_type": "code",
   "execution_count": 18,
   "metadata": {},
   "outputs": [],
   "source": [
    "# Final Sentence Transformer Models for Code and Query\n",
    "code_bert_model = SentenceTransformer(modules=[code_word_embedding_model, code_pooling_model, code_dense_model])\n",
    "query_bert_model = SentenceTransformer(modules=[query_word_embedding_model, query_pooling_model, query_dense_model])"
   ]
  },
  {
   "cell_type": "code",
   "execution_count": 19,
   "metadata": {},
   "outputs": [],
   "source": [
    "device = \"cuda\" if torch.cuda.is_available() else \"cpu\""
   ]
  },
  {
   "cell_type": "code",
   "execution_count": 20,
   "metadata": {},
   "outputs": [],
   "source": [
    "# Defining respective optimizers for code and query\n",
    "opt_code = torch.optim.Adam(code_bert_model.parameters(), lr=0.0001)\n",
    "opt_query = torch.optim.Adam(query_bert_model.parameters(), lr=0.0001)"
   ]
  },
  {
   "cell_type": "code",
   "execution_count": 21,
   "metadata": {},
   "outputs": [],
   "source": [
    "# Contrastive Loss Funciton for Training\n",
    "\n",
    "def contrastive_loss(joint_pos, joint_neg, anchor_out, temperature=0.01):\n",
    "    \n",
    "    pos_size = joint_pos.shape[0]\n",
    "    num_pos = nn.functional.cosine_similarity(anchor_out, joint_pos)/temperature\n",
    "    num_neg = nn.functional.cosine_similarity(anchor_out, joint_neg)/temperature\n",
    "\n",
    "    num_pos_neg = torch.cat((num_pos,num_neg))\n",
    "    num_pos_neg = nn.functional.softmax(num_pos_neg)\n",
    "    loss = torch.sum(num_pos_neg[:pos_size])/torch.sum(num_pos_neg)\n",
    "    loss = torch.tensor(-torch.log(loss), requires_grad=True)\n",
    "    \n",
    "    return loss"
   ]
  },
  {
   "cell_type": "code",
   "execution_count": 32,
   "metadata": {},
   "outputs": [],
   "source": [
    "training_losses = []\n",
    "def fit(code_bert_model, query_bert_model, tree_encoder, train_data, opt_code, opt_query, epochs=10, num_samples=32, lmbda=0.5):\n",
    "    for epoch in range(epochs):\n",
    "        epoch_loss = 0.0\n",
    "        indices = random.sample(train_data.keys(), num_samples)\n",
    "        print(\"-\"*25, f\"Epoch {epoch+1}\",\"-\"*25)\n",
    "        for i in indices:\n",
    "            qid = i\n",
    "            data = train_data[qid]\n",
    "            \n",
    "            get_neg(qid, train_data, len(data[\"pos\"]) * 3)\n",
    "            \n",
    "            pos_out = torch.stack([code_bert_model.encode(pos, convert_to_tensor=True) for pos in data[\"pos\"]])\n",
    "            neg_out = torch.stack([code_bert_model.encode(neg, convert_to_tensor=True) for neg in data[\"neg\"]])\n",
    "            \n",
    "            pos_tree_out = torch.stack([tree_encoder.encode(pos_tree) for pos_tree in data[\"pos_tree\"]])\n",
    "            neg_tree_out = torch.stack([tree_encoder.encode(neg_tree) for neg_tree in data[\"neg_tree\"]])\n",
    "            \n",
    "            assert(len(pos_out) == len(pos_tree_out))\n",
    "            assert(len(neg_out) == len(neg_tree_out))\n",
    "            \n",
    "            joint_pos = lmbda*pos_out + (1-lmbda)*pos_tree_out\n",
    "            joint_neg = lmbda*neg_out + (1-lmbda)*neg_tree_out                   \n",
    "             \n",
    "            anchor_out = query_bert_model.encode(data[\"anchor\"], convert_to_tensor=True)\n",
    "            anchor_out = torch.unsqueeze(anchor_out,0)\n",
    "            loss = contrastive_loss(joint_pos, joint_neg, anchor_out, temperature=temperature)\n",
    "            \n",
    "            epoch_loss += loss\n",
    "            \n",
    "            loss.backward()\n",
    "            opt_code.step()\n",
    "            opt_query.step()\n",
    "            opt_code.zero_grad()\n",
    "            opt_query.zero_grad()\n",
    "        \n",
    "        epoch_loss /= num_samples \n",
    "        training_losses.append(epoch_loss.item())\n",
    "        print(f\"Training loss: {epoch_loss:.4f}\")\n",
    "            "
   ]
  },
  {
   "cell_type": "code",
   "execution_count": null,
   "metadata": {},
   "outputs": [],
   "source": [
    "# Training the Model\n",
    "fit(code_bert_model, query_bert_model, ast2vec_model, new_data, opt_code, opt_query, epochs=NUM_EPOCHS, num_samples=NUM_SAMPLES, lmbda=lmbda)"
   ]
  },
  {
   "cell_type": "code",
   "execution_count": 74,
   "metadata": {},
   "outputs": [
    {
     "data": {
      "image/png": "[encoded data removed]",
      "text/plain": [
       "<Figure size 432x288 with 1 Axes>"
      ]
     },
     "metadata": {
      "needs_background": "light"
     },
     "output_type": "display_data"
    }
   ],
   "source": [
    "# Plot the Training Loss over Epochs\n",
    "import matplotlib.pyplot as plt\n",
    "\n",
    "plt.plot(range(len(training_losses)), training_losses)\n",
    "plt.xlabel('Epochs')\n",
    "plt.ylabel('Training Loss')\n",
    "plt.title(\"Training Loss over Time\")\n",
    "plt.show()"
   ]
  },
  {
   "cell_type": "markdown",
   "metadata": {},
   "source": [
    "Testing"
   ]
  },
  {
   "cell_type": "code",
   "execution_count": 95,
   "metadata": {},
   "outputs": [],
   "source": [
    "# Load test data\n",
    "f = open('conala-corpus/conala-test.json')\n",
    "data = json.load(f)"
   ]
  },
  {
   "cell_type": "code",
   "execution_count": 96,
   "metadata": {},
   "outputs": [],
   "source": [
    "# Process test data\n",
    "new_data = process_data(data)"
   ]
  },
  {
   "cell_type": "code",
   "execution_count": 97,
   "metadata": {},
   "outputs": [],
   "source": [
    "# Get Tree Embeddings of Code Snippets\n",
    "trees = [python_ast_utils.ast_to_tree(ast.parse(d[\"snippet\"])) for d in data]\n",
    "tree_embeddings = torch.stack([ast2vec_model.encode(tree) for tree in trees])"
   ]
  },
  {
   "cell_type": "code",
   "execution_count": 98,
   "metadata": {},
   "outputs": [],
   "source": [
    "# Get Code Text Embeddings for Code Snippets with Description\n",
    "code_text = [\"<s> \"+str(d[\"rewritten_intent\"]) + \" </s> \" + str(d[\"snippet\"]) + \" </s>\" for d in data]\n",
    "code_text_embeddings = torch.stack([code_bert_model.encode(t, convert_to_tensor=True) for t in code_text])"
   ]
  },
  {
   "cell_type": "code",
   "execution_count": 105,
   "metadata": {},
   "outputs": [],
   "source": [
    "# Get joint embedding combining code-text embedding and tree embedding\n",
    "joint_embeddings = lmbda*code_text_embeddings + (1-lmbda)*tree_embeddings "
   ]
  },
  {
   "cell_type": "code",
   "execution_count": 127,
   "metadata": {},
   "outputs": [],
   "source": [
    "# Get query ids list\n",
    "ids = [d[\"question_id\"] for d in data]"
   ]
  },
  {
   "cell_type": "code",
   "execution_count": 133,
   "metadata": {},
   "outputs": [],
   "source": [
    "# Get indices belonging to top hits\n",
    "def top_hits(query, k=3):\n",
    "    query_embedding = query_bert_model.encode(query, convert_to_tensor=True)\n",
    "    similarities = nn.functional.cosine_similarity(query_embedding, joint_embeddings)\n",
    "    sorted, indices = torch.sort(similarities, descending=True)\n",
    "    # print(indices[:k])\n",
    "    return indices[:k].tolist()"
   ]
  },
  {
   "cell_type": "code",
   "execution_count": 134,
   "metadata": {},
   "outputs": [],
   "source": [
    "# Get code snippets corresponding to top hits\n",
    "def search(query, k=3):\n",
    "    indices = top_hits(query, k)\n",
    "    code_snippets = [data[i][\"snippet\"] for i in indices]\n",
    "    return code_snippets"
   ]
  },
  {
   "cell_type": "code",
   "execution_count": null,
   "metadata": {},
   "outputs": [],
   "source": [
    "indices = top_hits(\"How to convert a string list into an integer in python\")\n",
    "print([ids[i] for i in indices])"
   ]
  },
  {
   "cell_type": "code",
   "execution_count": 139,
   "metadata": {},
   "outputs": [],
   "source": [
    "# Get recall for query at index idx\n",
    "def get_recall(idx, k=3):\n",
    "    query = data[idx][\"intent\"]\n",
    "    indices = top_hits(query, k)\n",
    "    query_ids = [ids[i] for i in indices]\n",
    "    query_id = ids[idx]\n",
    "    return sum([query_id==i for i in query_ids])/k"
   ]
  },
  {
   "cell_type": "code",
   "execution_count": null,
   "metadata": {},
   "outputs": [],
   "source": [
    "# Get average recall\n",
    "recalls = []\n",
    "for i in range(500):\n",
    "    recalls.append(get_recall(i))\n",
    "\n",
    "print(sum(recalls)/500)"
   ]
  }
 ],
 "metadata": {
  "interpreter": {
   "hash": "191c638b9d4d61a8e7371474efe7568c4d0935cfb72e9b2e61afe9f98bbbcd22"
  },
  "kernelspec": {
   "display_name": "Python 3.7.11 ('base')",
   "language": "python",
   "name": "python3"
  },
  "language_info": {
   "codemirror_mode": {
    "name": "ipython",
    "version": 3
   },
   "file_extension": ".py",
   "mimetype": "text/x-python",
   "name": "python",
   "nbconvert_exporter": "python",
   "pygments_lexer": "ipython3",
   "version": "3.7.11"
  },
  "orig_nbformat": 4
 },
 "nbformat": 4,
 "nbformat_minor": 2
}
